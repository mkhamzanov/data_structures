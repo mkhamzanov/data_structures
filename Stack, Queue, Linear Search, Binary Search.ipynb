{
 "cells": [
  {
   "cell_type": "markdown",
   "metadata": {},
   "source": [
    "# Stack"
   ]
  },
  {
   "cell_type": "markdown",
   "metadata": {},
   "source": [
    "### Через лист"
   ]
  },
  {
   "cell_type": "code",
   "execution_count": 227,
   "metadata": {},
   "outputs": [],
   "source": [
    "class Stack:\n",
    "     def __init__(self):\n",
    "         self.items = []\n",
    "\n",
    "     def isEmpty(self):\n",
    "         return self.items == []\n",
    "\n",
    "     def push(self, item):\n",
    "         self.items.append(item)\n",
    "\n",
    "     def pop(self):\n",
    "         return self.items.pop()\n",
    "\n",
    "     def peek(self):\n",
    "         return self.items[-1]\n",
    "\n",
    "     def size(self):\n",
    "         return len(self.items)\n",
    "    \n",
    "     def __str__(self):\n",
    "            print(self.items)\n",
    "            return \"res\""
   ]
  },
  {
   "cell_type": "code",
   "execution_count": 228,
   "metadata": {},
   "outputs": [
    {
     "data": {
      "text/plain": [
       "6"
      ]
     },
     "execution_count": 228,
     "metadata": {},
     "output_type": "execute_result"
    }
   ],
   "source": [
    "a = Stack()\n",
    "a.push(1)\n",
    "a.push(4)\n",
    "a.push(5)\n",
    "a.push(86)\n",
    "a.push('123')\n",
    "a.push('sa')\n",
    "a.size()"
   ]
  },
  {
   "cell_type": "code",
   "execution_count": 229,
   "metadata": {},
   "outputs": [
    {
     "name": "stdout",
     "output_type": "stream",
     "text": [
      "[1, 4, 5, 86, '123', 'sa']\n",
      "res\n"
     ]
    }
   ],
   "source": [
    "print(a)"
   ]
  },
  {
   "cell_type": "code",
   "execution_count": 230,
   "metadata": {},
   "outputs": [
    {
     "data": {
      "text/plain": [
       "'sa'"
      ]
     },
     "execution_count": 230,
     "metadata": {},
     "output_type": "execute_result"
    }
   ],
   "source": [
    "a.peek()"
   ]
  },
  {
   "cell_type": "markdown",
   "metadata": {},
   "source": [
    "# Queue"
   ]
  },
  {
   "cell_type": "code",
   "execution_count": 231,
   "metadata": {},
   "outputs": [],
   "source": [
    "class Queue:\n",
    "     def __init__(self):\n",
    "         self.items = []\n",
    "\n",
    "     def isEmpty(self):\n",
    "         return self.items == []\n",
    "\n",
    "     def enqueue(self, item):\n",
    "         self.items.insert(0,item)\n",
    "\n",
    "     def pop(self):\n",
    "        if self.size()==0:\n",
    "            print('Queue is emprty')\n",
    "        else:\n",
    "            self.items.pop()\n",
    "\n",
    "     def peek(self):\n",
    "         return self.items[-1]\n",
    "\n",
    "     def size(self):\n",
    "         return len(self.items)\n",
    "    \n",
    "     def __str__(self):\n",
    "            print(self.items)\n",
    "            return \"res\""
   ]
  },
  {
   "cell_type": "code",
   "execution_count": 232,
   "metadata": {},
   "outputs": [
    {
     "name": "stdout",
     "output_type": "stream",
     "text": [
      "[11, 231, 33, 3, 2, 1]\n",
      "res\n"
     ]
    }
   ],
   "source": [
    "a = Queue()\n",
    "a.enqueue(1)\n",
    "a.enqueue(2)\n",
    "a.enqueue(3)\n",
    "a.enqueue(33)\n",
    "a.enqueue(231)\n",
    "a.enqueue(11)\n",
    "print(a)"
   ]
  },
  {
   "cell_type": "code",
   "execution_count": 233,
   "metadata": {},
   "outputs": [
    {
     "name": "stdout",
     "output_type": "stream",
     "text": [
      "[11, 231, 33, 3, 2]\n",
      "res\n"
     ]
    }
   ],
   "source": [
    "a.pop()\n",
    "print(a)"
   ]
  },
  {
   "cell_type": "markdown",
   "metadata": {},
   "source": [
    "# Linear search"
   ]
  },
  {
   "cell_type": "code",
   "execution_count": 234,
   "metadata": {},
   "outputs": [],
   "source": [
    "def LinearSearch(array, value):\n",
    "    index_list = []\n",
    "    for i in range(len(array)):\n",
    "        if array[i] == value:\n",
    "            index_list.append(i)\n",
    "        else:\n",
    "            continue\n",
    "    if len(index_list) == 0:\n",
    "        return \"\"\"\"Value don't founded\"\"\"\n",
    "    else:\n",
    "        return index_list"
   ]
  },
  {
   "cell_type": "code",
   "execution_count": 235,
   "metadata": {},
   "outputs": [
    {
     "data": {
      "text/plain": [
       "'\"Value don\\'t founded'"
      ]
     },
     "execution_count": 235,
     "metadata": {},
     "output_type": "execute_result"
    }
   ],
   "source": [
    "LinearSearch([1,2,3,4,5,4],76)"
   ]
  },
  {
   "cell_type": "markdown",
   "metadata": {},
   "source": [
    "# Binary search"
   ]
  },
  {
   "cell_type": "code",
   "execution_count": 236,
   "metadata": {},
   "outputs": [],
   "source": [
    "from random import randint"
   ]
  },
  {
   "cell_type": "code",
   "execution_count": 237,
   "metadata": {},
   "outputs": [],
   "source": [
    "def BinarySearch(array, value, l, r):\n",
    "    if value> array[r-1] or value < array[l] or l>r or len(array) == 0:\n",
    "        return 'Error'\n",
    "    else:\n",
    "        \n",
    "        m = (l + r) //2\n",
    "        \n",
    "        if array[m] == value:\n",
    "            return 'index -',m, 'value -', array[m]\n",
    "        \n",
    "        elif array[m] > value:\n",
    "            return(BinarySearch(array, value, l, m))\n",
    "        \n",
    "        else:\n",
    "            return (BinarySearch(array, value, m+1, r))"
   ]
  },
  {
   "cell_type": "code",
   "execution_count": 240,
   "metadata": {},
   "outputs": [],
   "source": [
    "a = [1,2,3,4,5,6,7,8,9,10,11,12,13,14,15]"
   ]
  },
  {
   "cell_type": "code",
   "execution_count": 241,
   "metadata": {
    "scrolled": true
   },
   "outputs": [
    {
     "data": {
      "text/plain": [
       "('index -', 0, 'value -', 1)"
      ]
     },
     "execution_count": 241,
     "metadata": {},
     "output_type": "execute_result"
    }
   ],
   "source": [
    "BinarySearch(a, 1,0, len(a))"
   ]
  },
  {
   "cell_type": "code",
   "execution_count": null,
   "metadata": {},
   "outputs": [],
   "source": []
  },
  {
   "cell_type": "code",
   "execution_count": null,
   "metadata": {},
   "outputs": [],
   "source": []
  },
  {
   "cell_type": "code",
   "execution_count": null,
   "metadata": {},
   "outputs": [],
   "source": []
  }
 ],
 "metadata": {
  "kernelspec": {
   "display_name": "Python 3",
   "language": "python",
   "name": "python3"
  },
  "language_info": {
   "codemirror_mode": {
    "name": "ipython",
    "version": 3
   },
   "file_extension": ".py",
   "mimetype": "text/x-python",
   "name": "python",
   "nbconvert_exporter": "python",
   "pygments_lexer": "ipython3",
   "version": "3.6.4"
  }
 },
 "nbformat": 4,
 "nbformat_minor": 2
}
