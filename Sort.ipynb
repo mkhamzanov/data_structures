{
 "cells": [
  {
   "cell_type": "markdown",
   "metadata": {},
   "source": [
    "# Linear Search"
   ]
  },
  {
   "cell_type": "code",
   "execution_count": 2,
   "metadata": {},
   "outputs": [],
   "source": [
    "def LinearSearch(array, value):\n",
    "    index_list = []\n",
    "    for i in range(len(array)):\n",
    "        if array[i] == value:\n",
    "            index_list.append(i)\n",
    "        else:\n",
    "            continue\n",
    "    if len(index_list) == 0:\n",
    "        return \"\"\"\"Value don't founded\"\"\"\n",
    "    else:\n",
    "        return index_list"
   ]
  },
  {
   "cell_type": "markdown",
   "metadata": {},
   "source": [
    "# Linear search in ordered list"
   ]
  },
  {
   "cell_type": "code",
   "execution_count": 44,
   "metadata": {},
   "outputs": [],
   "source": [
    "def LinearSearch(array, value):\n",
    "    i = 0\n",
    "    while i < len(array):\n",
    "        if array[i] == value:\n",
    "            return i\n",
    "        elif array[i] > value:\n",
    "            return \"\"\"Value don't founded, count of iteration is equal =\"\"\", i\n",
    "        i += 1\n",
    "    if array[i-1] < value:\n",
    "        return 'Number is not exist'"
   ]
  },
  {
   "cell_type": "code",
   "execution_count": 45,
   "metadata": {},
   "outputs": [
    {
     "data": {
      "text/plain": [
       "(\"Value don't founded, count of iteration is equal =\", 3)"
      ]
     },
     "execution_count": 45,
     "metadata": {},
     "output_type": "execute_result"
    }
   ],
   "source": [
    "a = [1,2,3,4,4.5]\n",
    "LinearSearch(a,3.5)"
   ]
  },
  {
   "cell_type": "markdown",
   "metadata": {},
   "source": [
    "# Пузырьковая сортировка сложность О(икс квадрат)"
   ]
  },
  {
   "cell_type": "code",
   "execution_count": 92,
   "metadata": {},
   "outputs": [],
   "source": [
    "def sort_n_1(array):\n",
    "    for i in range(len(array)):\n",
    "        #print(i,'\\n')\n",
    "        for j in range(len(array)-1-i):\n",
    "            #print(array[-1-1-j],'<>', array[-1-j])\n",
    "            a, b = array[-1-1-j],array[-1-j]\n",
    "            if a > b:\n",
    "                array[-1-1-j],array[-1-j] = b, a\n",
    "                #print('Change')\n",
    "            #print(array)\n",
    "    return array"
   ]
  },
  {
   "cell_type": "code",
   "execution_count": 93,
   "metadata": {
    "scrolled": true
   },
   "outputs": [
    {
     "data": {
      "text/plain": [
       "[1, 2, 2, 3, 4, 5, 5, 5, 6, 123]"
      ]
     },
     "execution_count": 93,
     "metadata": {},
     "output_type": "execute_result"
    }
   ],
   "source": [
    "sort_n_1([1,4,5,6,5,5,123,2,2,3])"
   ]
  },
  {
   "cell_type": "markdown",
   "metadata": {},
   "source": [
    "# Сортировка выбором"
   ]
  },
  {
   "cell_type": "code",
   "execution_count": 98,
   "metadata": {},
   "outputs": [],
   "source": [
    "def selectionSort(array):\n",
    "    for i in range(len(array)):\n",
    "        index = i\n",
    "        min_value = array[i]\n",
    "        for j in range(i,len(array)):\n",
    "            if array[j] < min_value:\n",
    "                min_value = array[j]\n",
    "                index = j\n",
    "        array[index],array[i] = array[i],array[index]\n",
    "    return array"
   ]
  },
  {
   "cell_type": "code",
   "execution_count": 100,
   "metadata": {},
   "outputs": [
    {
     "data": {
      "text/plain": [
       "[1, 2, 2, 3, 4, 5, 5, 5, 6, 123]"
      ]
     },
     "execution_count": 100,
     "metadata": {},
     "output_type": "execute_result"
    }
   ],
   "source": [
    "selectionSort([1,4,5,6,5,5,123,2,2,3])"
   ]
  },
  {
   "cell_type": "code",
   "execution_count": 101,
   "metadata": {},
   "outputs": [],
   "source": [
    "a = 'Make'\n",
    "b = 'Saya'"
   ]
  },
  {
   "cell_type": "code",
   "execution_count": 102,
   "metadata": {},
   "outputs": [],
   "source": [
    "tmp = a\n",
    "a = b\n",
    "b = tmp"
   ]
  },
  {
   "cell_type": "code",
   "execution_count": 105,
   "metadata": {},
   "outputs": [],
   "source": [
    "a,b = b,a"
   ]
  },
  {
   "cell_type": "markdown",
   "metadata": {},
   "source": [
    "# Сортировка вставками"
   ]
  },
  {
   "cell_type": "code",
   "execution_count": 161,
   "metadata": {},
   "outputs": [],
   "source": [
    "def insertSort(array):\n",
    "    for i in range(1,len(array)):\n",
    "        print(array[i],'- Выбранное число')\n",
    "        for j in range(len(array[0:i])):\n",
    "            print(array[0:i][-1-j],'- Сравниваемое число')\n",
    "            print(array, ' Было')\n",
    "            if array[j] > array[i]:\n",
    "                array[j],array[i] = array[i], array[j]\n",
    "            print(array,' Стало')\n",
    "        print('\\n')\n",
    "    return array"
   ]
  },
  {
   "cell_type": "code",
   "execution_count": 162,
   "metadata": {
    "scrolled": false
   },
   "outputs": [
    {
     "name": "stdout",
     "output_type": "stream",
     "text": [
      "8 - Выбранное число\n",
      "9 - Сравниваемое число\n",
      "[9, 8, 6, 3, 2]  Было\n",
      "[8, 9, 6, 3, 2]  Стало\n",
      "\n",
      "\n",
      "6 - Выбранное число\n",
      "9 - Сравниваемое число\n",
      "[8, 9, 6, 3, 2]  Было\n",
      "[6, 9, 8, 3, 2]  Стало\n",
      "6 - Сравниваемое число\n",
      "[6, 9, 8, 3, 2]  Было\n",
      "[6, 8, 9, 3, 2]  Стало\n",
      "\n",
      "\n",
      "3 - Выбранное число\n",
      "9 - Сравниваемое число\n",
      "[6, 8, 9, 3, 2]  Было\n",
      "[3, 8, 9, 6, 2]  Стало\n",
      "8 - Сравниваемое число\n",
      "[3, 8, 9, 6, 2]  Было\n",
      "[3, 6, 9, 8, 2]  Стало\n",
      "3 - Сравниваемое число\n",
      "[3, 6, 9, 8, 2]  Было\n",
      "[3, 6, 8, 9, 2]  Стало\n",
      "\n",
      "\n",
      "2 - Выбранное число\n",
      "9 - Сравниваемое число\n",
      "[3, 6, 8, 9, 2]  Было\n",
      "[2, 6, 8, 9, 3]  Стало\n",
      "8 - Сравниваемое число\n",
      "[2, 6, 8, 9, 3]  Было\n",
      "[2, 3, 8, 9, 6]  Стало\n",
      "3 - Сравниваемое число\n",
      "[2, 3, 8, 9, 6]  Было\n",
      "[2, 3, 6, 9, 8]  Стало\n",
      "2 - Сравниваемое число\n",
      "[2, 3, 6, 9, 8]  Было\n",
      "[2, 3, 6, 8, 9]  Стало\n",
      "\n",
      "\n"
     ]
    },
    {
     "data": {
      "text/plain": [
       "[2, 3, 6, 8, 9]"
      ]
     },
     "execution_count": 162,
     "metadata": {},
     "output_type": "execute_result"
    }
   ],
   "source": [
    "insertSort([9,8,6,3,2])"
   ]
  },
  {
   "cell_type": "code",
   "execution_count": null,
   "metadata": {},
   "outputs": [],
   "source": []
  },
  {
   "cell_type": "code",
   "execution_count": null,
   "metadata": {},
   "outputs": [],
   "source": []
  },
  {
   "cell_type": "code",
   "execution_count": null,
   "metadata": {},
   "outputs": [],
   "source": []
  },
  {
   "cell_type": "code",
   "execution_count": null,
   "metadata": {},
   "outputs": [],
   "source": []
  },
  {
   "cell_type": "code",
   "execution_count": null,
   "metadata": {},
   "outputs": [],
   "source": []
  },
  {
   "cell_type": "code",
   "execution_count": null,
   "metadata": {},
   "outputs": [],
   "source": []
  },
  {
   "cell_type": "code",
   "execution_count": null,
   "metadata": {},
   "outputs": [],
   "source": []
  },
  {
   "cell_type": "code",
   "execution_count": null,
   "metadata": {},
   "outputs": [],
   "source": []
  },
  {
   "cell_type": "code",
   "execution_count": null,
   "metadata": {},
   "outputs": [],
   "source": []
  },
  {
   "cell_type": "code",
   "execution_count": null,
   "metadata": {},
   "outputs": [],
   "source": []
  },
  {
   "cell_type": "code",
   "execution_count": null,
   "metadata": {},
   "outputs": [],
   "source": []
  },
  {
   "cell_type": "code",
   "execution_count": null,
   "metadata": {},
   "outputs": [],
   "source": []
  }
 ],
 "metadata": {
  "kernelspec": {
   "display_name": "Python 3",
   "language": "python",
   "name": "python3"
  },
  "language_info": {
   "codemirror_mode": {
    "name": "ipython",
    "version": 3
   },
   "file_extension": ".py",
   "mimetype": "text/x-python",
   "name": "python",
   "nbconvert_exporter": "python",
   "pygments_lexer": "ipython3",
   "version": "3.6.4"
  }
 },
 "nbformat": 4,
 "nbformat_minor": 2
}
