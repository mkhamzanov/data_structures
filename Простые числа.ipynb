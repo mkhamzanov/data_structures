{
 "cells": [
  {
   "cell_type": "code",
   "execution_count": 168,
   "metadata": {},
   "outputs": [],
   "source": [
    "def p(n):\n",
    "    for i in range(2,n//2+1):\n",
    "        if n % i == 0:\n",
    "            return False\n",
    "    return True"
   ]
  },
  {
   "cell_type": "code",
   "execution_count": 169,
   "metadata": {},
   "outputs": [
    {
     "data": {
      "text/plain": [
       "False"
      ]
     },
     "execution_count": 169,
     "metadata": {},
     "output_type": "execute_result"
    }
   ],
   "source": [
    "p(15)"
   ]
  },
  {
   "cell_type": "code",
   "execution_count": 205,
   "metadata": {},
   "outputs": [],
   "source": [
    "import time\n",
    "def sum_p(n):\n",
    "    sum_all = 0\n",
    "    for i in range(2,n+1):\n",
    "        if p(i):\n",
    "            #print(i)\n",
    "            sum_all += i\n",
    "    return sum_all"
   ]
  },
  {
   "cell_type": "code",
   "execution_count": 221,
   "metadata": {},
   "outputs": [],
   "source": [
    "a = [(lambda x: 10**x)(x) for x in range(2,7)]"
   ]
  },
  {
   "cell_type": "code",
   "execution_count": 222,
   "metadata": {},
   "outputs": [
    {
     "data": {
      "text/plain": [
       "[0.0,\n",
       " 0.00299072265625,\n",
       " 0.16057133674621582,\n",
       " 12.835533857345581,\n",
       " 1096.569736480713]"
      ]
     },
     "execution_count": 222,
     "metadata": {},
     "output_type": "execute_result"
    }
   ],
   "source": [
    "import time\n",
    "time_list = []\n",
    "for i in a:\n",
    "    time_1 = time.time()\n",
    "    sum_p(i)\n",
    "    time_2 = time.time()\n",
    "    time_list.append(time_2 - time_1)\n",
    "time_list"
   ]
  },
  {
   "cell_type": "code",
   "execution_count": 229,
   "metadata": {},
   "outputs": [
    {
     "name": "stdout",
     "output_type": "stream",
     "text": [
      "Iteration - 2, acceleration is equal 53.689811862244895, 0.16057133674621582/0.00299072265625\n",
      "Iteration - 3, acceleration is equal 79.93664446869641, 12.835533857345581/0.16057133674621582\n",
      "Iteration - 4, acceleration is equal 85.4323434200723, 1096.569736480713/12.835533857345581\n"
     ]
    }
   ],
   "source": [
    "for i in range(2,len(time_list)):\n",
    "    print(f'Iteration - {i}, acceleration is equal {time_list[i]/time_list[i-1]}, {time_list[i]}/{time_list[i-1]}')"
   ]
  },
  {
   "cell_type": "code",
   "execution_count": 233,
   "metadata": {},
   "outputs": [],
   "source": [
    "def sum_of_n(n):\n",
    "    sum_all = 0\n",
    "    for i in range(1,n+1):\n",
    "        sum_all += i\n",
    "    return sum_all"
   ]
  },
  {
   "cell_type": "code",
   "execution_count": 249,
   "metadata": {},
   "outputs": [],
   "source": [
    "b = [(lambda x: 10**x)(x) for x in range(2,10)]"
   ]
  },
  {
   "cell_type": "code",
   "execution_count": 250,
   "metadata": {},
   "outputs": [
    {
     "data": {
      "text/plain": [
       "[0.0,\n",
       " 0.0,\n",
       " 0.0010077953338623047,\n",
       " 0.005942106246948242,\n",
       " 0.05290055274963379,\n",
       " 0.48465585708618164,\n",
       " 5.124273300170898,\n",
       " 47.935267210006714]"
      ]
     },
     "execution_count": 250,
     "metadata": {},
     "output_type": "execute_result"
    }
   ],
   "source": [
    "import time\n",
    "time_list_b = []\n",
    "for i in b:\n",
    "    time_1 = time.time()\n",
    "    sum_of_n(i)\n",
    "    time_2 = time.time()\n",
    "    time_list_b.append(time_2 - time_1)\n",
    "time_list_b"
   ]
  },
  {
   "cell_type": "code",
   "execution_count": 251,
   "metadata": {},
   "outputs": [
    {
     "name": "stdout",
     "output_type": "stream",
     "text": [
      "Iteration - 4, acceleration is equal 8.90266019339566, 0.05290055274963379/0.005942106246948242\n",
      "Iteration - 5, acceleration is equal 9.161640699293766, 0.48465585708618164/0.05290055274963379\n",
      "Iteration - 6, acceleration is equal 10.573014284772585, 5.124273300170898/0.48465585708618164\n",
      "Iteration - 7, acceleration is equal 9.354549299391982, 47.935267210006714/5.124273300170898\n"
     ]
    }
   ],
   "source": [
    "for i in range(4,len(time_list_b)):\n",
    "    print(f'Iteration - {i}, acceleration is equal {time_list_b[i]/time_list_b[i-1]}, {time_list_b[i]}/{time_list_b[i-1]}')"
   ]
  },
  {
   "cell_type": "code",
   "execution_count": 254,
   "metadata": {},
   "outputs": [],
   "source": [
    "def sum_of_n_quick(n):\n",
    "    return int((1+n)*n/2)"
   ]
  },
  {
   "cell_type": "code",
   "execution_count": 256,
   "metadata": {},
   "outputs": [
    {
     "data": {
      "text/plain": [
       "10"
      ]
     },
     "execution_count": 256,
     "metadata": {},
     "output_type": "execute_result"
    }
   ],
   "source": [
    "sum_of_n_quick(4)"
   ]
  },
  {
   "cell_type": "code",
   "execution_count": null,
   "metadata": {},
   "outputs": [],
   "source": []
  }
 ],
 "metadata": {
  "kernelspec": {
   "display_name": "Python 3",
   "language": "python",
   "name": "python3"
  },
  "language_info": {
   "codemirror_mode": {
    "name": "ipython",
    "version": 3
   },
   "file_extension": ".py",
   "mimetype": "text/x-python",
   "name": "python",
   "nbconvert_exporter": "python",
   "pygments_lexer": "ipython3",
   "version": "3.6.4"
  }
 },
 "nbformat": 4,
 "nbformat_minor": 2
}
