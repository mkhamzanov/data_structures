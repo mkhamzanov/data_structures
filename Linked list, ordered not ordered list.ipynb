{
 "cells": [
  {
   "cell_type": "markdown",
   "metadata": {},
   "source": [
    "# Связный список - неупорядоченный список\n",
    "Для реализации неупорядоченного списка мы создадим то, что обычно называют связанным списком. Напомним: мы должны быть уверены, что сможем поддерживать порядок взаимного расположения элементов. Однако, такое позиционирование не обязательно должно быть на смежных участках памяти. Рассмотрим для примера коллекцию элементов, показанную на рисунке 1. Похоже, эти значения были размещены случайным образом. Если мы сможем сохранить в каждом элементе некую явную информацию о размещении его соседа (см. рисунок 2), то соответствующая позиция каждого из них может быть выражена простой ссылкой от одного к другому."
   ]
  },
  {
   "attachments": {
    "image.png": {
     "image/png": "[encoded data removed]"
    }
   },
   "cell_type": "markdown",
   "metadata": {},
   "source": [
    "#### Рисунок 1: Элементы не ограничены в своём физическом размещении.\n",
    "![image.png](attachment:image.png)\n",
    "\n",
    "#### Рисунок 2: Соответствующие позиции определяются с помощью явных ссылок.\n",
    "![image.png](attachment:image.png)"
   ]
  },
  {
   "attachments": {
    "image.png": {
     "image/png": "[encoded data removed]"
    }
   },
   "cell_type": "markdown",
   "metadata": {},
   "source": [
    "#### Вот так вот выглядит пустая нода\n",
    "![image.png](attachment:image.png)"
   ]
  },
  {
   "cell_type": "markdown",
   "metadata": {},
   "source": [
    "# Вершина"
   ]
  },
  {
   "cell_type": "code",
   "execution_count": 176,
   "metadata": {},
   "outputs": [],
   "source": [
    "class Node:\n",
    "    def __init__(self,initdata):\n",
    "        self.data = initdata\n",
    "        self.next = None\n",
    "    def getData(self):\n",
    "        return self.data\n",
    "\n",
    "    def getNext(self):\n",
    "        return self.next\n",
    "\n",
    "    def setData(self,newdata):\n",
    "        self.data = newdata\n",
    "\n",
    "    def setNext(self,newnext):\n",
    "        self.next = newnext"
   ]
  },
  {
   "cell_type": "code",
   "execution_count": 177,
   "metadata": {},
   "outputs": [],
   "source": [
    "a = Node(1)\n",
    "b = Node(2)"
   ]
  },
  {
   "cell_type": "code",
   "execution_count": 178,
   "metadata": {},
   "outputs": [
    {
     "name": "stdout",
     "output_type": "stream",
     "text": [
      "None\n",
      "3\n"
     ]
    }
   ],
   "source": [
    "print(a.setNext(3))\n",
    "print(a.getNext())"
   ]
  },
  {
   "cell_type": "code",
   "execution_count": 179,
   "metadata": {},
   "outputs": [
    {
     "data": {
      "text/plain": [
       "'head --- 54->26->93->17->77->31 --- end'"
      ]
     },
     "execution_count": 179,
     "metadata": {},
     "output_type": "execute_result"
    }
   ],
   "source": [
    "'head --- 54->26->93->17->77->31 --- end'"
   ]
  },
  {
   "cell_type": "markdown",
   "metadata": {},
   "source": [
    "# Структура"
   ]
  },
  {
   "cell_type": "code",
   "execution_count": 262,
   "metadata": {},
   "outputs": [],
   "source": [
    "class UnorderedList:\n",
    "\n",
    "    def __init__(self):\n",
    "        self.head = None\n",
    "        \n",
    "    def isEmpty(self):\n",
    "        return self.head == None\n",
    "    \n",
    "    def add(self,item):\n",
    "        tmp = Node(item)\n",
    "        tmp.setNext(self.head)\n",
    "        self.head = tmp\n",
    "        \n",
    "    def count(self):\n",
    "        head = self.head\n",
    "        i = 0\n",
    "        while head is not None:\n",
    "            head = head.getNext()\n",
    "            i +=1\n",
    "        return i\n",
    "    \n",
    "    def search(self, item):\n",
    "        head = self.head\n",
    "        i = 0\n",
    "        answer = False\n",
    "        while head is not None:\n",
    "            value = head.getData()\n",
    "            if value==item:\n",
    "                answer = True\n",
    "                break\n",
    "            else:\n",
    "                head = head.getNext()\n",
    "                i +=1\n",
    "        return answer\n",
    "    \n",
    "    def show(self):\n",
    "        head = self.head\n",
    "        i = 0\n",
    "        a = 'head'\n",
    "        while head is not None:\n",
    "            a += '->' + str(head.getData())\n",
    "            head = head.getNext()\n",
    "            i +=1\n",
    "        return (a)\n",
    "    \n",
    "    def delete(self,item):\n",
    "        if self.search(item) == False:\n",
    "            return 'Element not Found'\n",
    "        else:\n",
    "            i = 0\n",
    "            prev = self.head\n",
    "            curr = prev.getNext()\n",
    "            # Если в начале попался\n",
    "            if prev.getData()==item:\n",
    "                self.head = curr\n",
    "            j = 0\n",
    "            while curr is not None:\n",
    "                if curr.getData() == item:\n",
    "                    prev.setNext(curr.getNext())\n",
    "                    j += 1\n",
    "                else:\n",
    "                    pass\n",
    "                i +=1\n",
    "                prev = curr\n",
    "                curr = curr.getNext()\n",
    "            print('Element {} was deleted {} times'.format(item, j))\n",
    "    \n",
    "    def size(self):\n",
    "        if self.isEmpty() is True:\n",
    "            return 0\n",
    "        else:\n",
    "            i = 1\n",
    "            prev = self.head\n",
    "            curr = prev.getNext()\n",
    "            while curr is not None:\n",
    "                i +=1\n",
    "                curr = curr.getNext()\n",
    "            return i\n",
    "        \n",
    "    def pop(self):\n",
    "        \n",
    "        if self.isEmpty() is True:\n",
    "            print( 'Linked list is Empty' )\n",
    "        elif self.size() == 1:\n",
    "            print('We have deleted last Node in List\\n')\n",
    "            self.head = None\n",
    "        else:\n",
    "            i = 1\n",
    "            prev = self.head\n",
    "            curr = prev.getNext()\n",
    "            while curr is not None:\n",
    "                if i + 1  == self.size():\n",
    "                    prev.setNext(None)\n",
    "                else:\n",
    "                    prev = curr\n",
    "                    curr = curr.getNext()\n",
    "                i +=1\n",
    "            print('size is equal =', self.size())\n",
    "            print(self.show(),'\\n')\n",
    "            \n",
    "    def __str__(self):\n",
    "        current = self.head\n",
    "        string = '['\n",
    "        while current is not None:\n",
    "            string += str(current.getData())\n",
    "            if current.getNext() is not None:\n",
    "                string += ', '\n",
    "            current = current.getNext()\n",
    "        string += ']'\n",
    "        return string"
   ]
  },
  {
   "cell_type": "code",
   "execution_count": 263,
   "metadata": {},
   "outputs": [
    {
     "name": "stdout",
     "output_type": "stream",
     "text": [
      "[5, 4, 3, 2, 1]\n"
     ]
    }
   ],
   "source": [
    "mylist = UnorderedList()\n",
    "mylist.add(1)\n",
    "mylist.add(2)\n",
    "mylist.add(3)\n",
    "mylist.add(4)\n",
    "mylist.add(5)\n",
    "mylist.show()\n",
    "print(mylist)"
   ]
  },
  {
   "cell_type": "code",
   "execution_count": 264,
   "metadata": {
    "scrolled": false
   },
   "outputs": [
    {
     "name": "stdout",
     "output_type": "stream",
     "text": [
      "size is equal = 4\n",
      "head->5->4->3->2 \n",
      "\n",
      "size is equal = 3\n",
      "head->5->4->3 \n",
      "\n",
      "size is equal = 2\n",
      "head->5->4 \n",
      "\n",
      "size is equal = 1\n",
      "head->5 \n",
      "\n",
      "We have deleted last Node in List\n",
      "\n",
      "Linked list is Empty\n"
     ]
    }
   ],
   "source": [
    "mylist.pop()\n",
    "mylist.pop()\n",
    "mylist.pop()\n",
    "mylist.pop()\n",
    "mylist.pop()\n",
    "mylist.pop()"
   ]
  },
  {
   "cell_type": "markdown",
   "metadata": {},
   "source": [
    "# Управление паматью"
   ]
  },
  {
   "cell_type": "code",
   "execution_count": 265,
   "metadata": {},
   "outputs": [
    {
     "name": "stdout",
     "output_type": "stream",
     "text": [
      "59.80859375\n"
     ]
    }
   ],
   "source": [
    "import os\n",
    "import psutil\n",
    "process = psutil.Process(os.getpid())\n",
    "print(process.memory_info().rss/1024**2)"
   ]
  },
  {
   "cell_type": "markdown",
   "metadata": {},
   "source": [
    "# Свзяный список - упорядоченный список\n"
   ]
  },
  {
   "cell_type": "code",
   "execution_count": 467,
   "metadata": {},
   "outputs": [],
   "source": [
    "class OrderedList:\n",
    "\n",
    "    def __init__(self):\n",
    "        self.head = None\n",
    "    \n",
    "    def search(self, item):\n",
    "        self.show()\n",
    "        head = self.head\n",
    "        i = 0\n",
    "        answer = False\n",
    "        \n",
    "        while head is not None and head.getData() <= item:\n",
    "            value = head.getData()\n",
    "            print('Current value is = {}'.format(value))\n",
    "            if value==item:\n",
    "                answer = True\n",
    "            i +=1\n",
    "            head = head.getNext()\n",
    "            print('Number of iteration is = {}\\n'.format(i))\n",
    "        return answer\n",
    "    \n",
    "    def show(self):\n",
    "        head = self.head\n",
    "        i = 0\n",
    "        a = 'head'\n",
    "        while head is not None:\n",
    "            a += '->' + str(head.getData())\n",
    "            head = head.getNext()\n",
    "            i +=1\n",
    "        print(a,'\\n')\n",
    "        #return (a)\n",
    "\n",
    "\n",
    "    \n",
    "    # Не понял как делается    \n",
    "\n",
    "\n",
    "\n",
    "    def add(self,item):\n",
    "        current = self.head\n",
    "        previous = None\n",
    "        stop = False\n",
    "        \n",
    "        while current != None and not stop:\n",
    "            if current.getData() > item:\n",
    "                stop = True\n",
    "            else:\n",
    "                previous = current\n",
    "                current = current.getNext()\n",
    "    \n",
    "        temp = Node(item)\n",
    "        if previous == None:\n",
    "            temp.setNext(self.head)\n",
    "            self.head = temp\n",
    "        else:\n",
    "            temp.setNext(current)\n",
    "            previous.setNext(temp)"
   ]
  },
  {
   "cell_type": "code",
   "execution_count": 468,
   "metadata": {},
   "outputs": [
    {
     "name": "stdout",
     "output_type": "stream",
     "text": [
      "head->2 \n",
      "\n",
      "head->2->22 \n",
      "\n",
      "head->2->22->23 \n",
      "\n",
      "head->2->3->22->23 \n",
      "\n"
     ]
    }
   ],
   "source": [
    "mylist = OrderedList()\n",
    "mylist.add(2)\n",
    "mylist.show()\n",
    "mylist.add(22)\n",
    "mylist.show()\n",
    "mylist.add(23)\n",
    "mylist.show()\n",
    "mylist.add(3)\n",
    "mylist.show()\n",
    "#print(mylist.search(4))"
   ]
  },
  {
   "cell_type": "code",
   "execution_count": null,
   "metadata": {},
   "outputs": [],
   "source": []
  },
  {
   "cell_type": "code",
   "execution_count": null,
   "metadata": {},
   "outputs": [],
   "source": [
    "class LinkedList:\n",
    "\n",
    "    def __init__(self):\n",
    "        self.head = None\n",
    "    \n",
    "    def add(self,item):\n",
    "        tmp = Node(item)\n",
    "        tmp.setNext(self.head)\n",
    "        self.head = tmp\n"
   ]
  },
  {
   "cell_type": "code",
   "execution_count": null,
   "metadata": {},
   "outputs": [],
   "source": []
  },
  {
   "cell_type": "code",
   "execution_count": null,
   "metadata": {},
   "outputs": [],
   "source": []
  }
 ],
 "metadata": {
  "kernelspec": {
   "display_name": "Python 3",
   "language": "python",
   "name": "python3"
  },
  "language_info": {
   "codemirror_mode": {
    "name": "ipython",
    "version": 3
   },
   "file_extension": ".py",
   "mimetype": "text/x-python",
   "name": "python",
   "nbconvert_exporter": "python",
   "pygments_lexer": "ipython3",
   "version": "3.6.4"
  }
 },
 "nbformat": 4,
 "nbformat_minor": 2
}
